{
 "cells": [
  {
   "cell_type": "code",
   "execution_count": 1,
   "id": "f7fe9dec",
   "metadata": {},
   "outputs": [],
   "source": [
    "import requests\n",
    "from bs4 import BeautifulSoup as bs\n",
    "from urllib.request import urlopen as uReq\n",
    "import logging"
   ]
  },
  {
   "cell_type": "code",
   "execution_count": 2,
   "id": "6f0358fa",
   "metadata": {},
   "outputs": [],
   "source": [
    "flipkart = \"https://www.flipkart.com/search?q=\" + \"iphone+15+pro+ma\""
   ]
  },
  {
   "cell_type": "code",
   "execution_count": 3,
   "id": "61409a83",
   "metadata": {},
   "outputs": [
    {
     "data": {
      "text/plain": [
       "'https://www.flipkart.com/search?q=iphone+15+pro+ma'"
      ]
     },
     "execution_count": 3,
     "metadata": {},
     "output_type": "execute_result"
    }
   ],
   "source": [
    "flipkart"
   ]
  },
  {
   "cell_type": "code",
   "execution_count": 4,
   "id": "081ad3ce",
   "metadata": {},
   "outputs": [],
   "source": [
    "url_client = uReq(flipkart)"
   ]
  },
  {
   "cell_type": "code",
   "execution_count": 5,
   "id": "9c6138ce",
   "metadata": {},
   "outputs": [],
   "source": [
    "page_read = url_client.read()"
   ]
  },
  {
   "cell_type": "code",
   "execution_count": 6,
   "id": "9f5c62be",
   "metadata": {},
   "outputs": [],
   "source": [
    "data_parcing = bs(page_read , \"html.parser\")"
   ]
  },
  {
   "cell_type": "code",
   "execution_count": 7,
   "id": "49612102",
   "metadata": {},
   "outputs": [],
   "source": [
    "container = data_parcing.findAll(\"div\" , {\"class\" : \"_1AtVbE col-12-12\"})"
   ]
  },
  {
   "cell_type": "code",
   "execution_count": 8,
   "id": "60454640",
   "metadata": {},
   "outputs": [
    {
     "data": {
      "text/plain": [
       "31"
      ]
     },
     "execution_count": 8,
     "metadata": {},
     "output_type": "execute_result"
    }
   ],
   "source": [
    "len(container)"
   ]
  },
  {
   "cell_type": "code",
   "execution_count": 9,
   "id": "45fadaed",
   "metadata": {},
   "outputs": [],
   "source": [
    "del container[0:3]"
   ]
  },
  {
   "cell_type": "code",
   "execution_count": 10,
   "id": "c1927f6a",
   "metadata": {},
   "outputs": [
    {
     "data": {
      "text/plain": [
       "'/apple-iphone-15-pro-max-blue-titanium-256-gb/p/itm4a0093df4a3d7?pid=MOBGTAGP4SVJGGH6&lid=LSTMOBGTAGP4SVJGGH6BVMLK2&marketplace=FLIPKART&q=iphone+15+pro+ma&store=tyy%2F4io&srno=s_1_4&otracker=search&fm=organic&iid=f5769ec7-1e15-46bf-92ff-c27a30a63b37.MOBGTAGP4SVJGGH6.SEARCH&ppt=None&ppn=None&ssid=pa1czu5y3k0000001702790164817&qH=ddf25561cfa33514'"
      ]
     },
     "execution_count": 10,
     "metadata": {},
     "output_type": "execute_result"
    }
   ],
   "source": [
    "container[3].div.div.div.a[\"href\"]"
   ]
  },
  {
   "cell_type": "code",
   "execution_count": 11,
   "id": "06d215a9",
   "metadata": {},
   "outputs": [
    {
     "name": "stdout",
     "output_type": "stream",
     "text": [
      "https://www.flipkart.com/apple-iphone-15-pro-max-natural-titanium-256-gb/p/itm9d44960698192?pid=MOBGTAGQH6K7YMJU&lid=LSTMOBGTAGQH6K7YMJU74VM64&marketplace=FLIPKART&q=iphone+15+pro+ma&store=tyy%2F4io&srno=s_1_1&otracker=search&fm=organic&iid=f5769ec7-1e15-46bf-92ff-c27a30a63b37.MOBGTAGQH6K7YMJU.SEARCH&ppt=None&ppn=None&ssid=pa1czu5y3k0000001702790164817&qH=ddf25561cfa33514\n",
      "https://www.flipkart.com/apple-iphone-15-pro-max-black-titanium-256-gb/p/itmd170cfc1dec9e?pid=MOBGTAGQGJWQFEFX&lid=LSTMOBGTAGQGJWQFEFXBVNGR1&marketplace=FLIPKART&q=iphone+15+pro+ma&store=tyy%2F4io&srno=s_1_2&otracker=search&fm=organic&iid=f5769ec7-1e15-46bf-92ff-c27a30a63b37.MOBGTAGQGJWQFEFX.SEARCH&ppt=None&ppn=None&ssid=pa1czu5y3k0000001702790164817&qH=ddf25561cfa33514\n",
      "https://www.flipkart.com/apple-iphone-15-pro-max-white-titanium-256-gb/p/itm35b922bbbefc9?pid=MOBGTAGQ8DDHVKZM&lid=LSTMOBGTAGQ8DDHVKZMSRYDKK&marketplace=FLIPKART&q=iphone+15+pro+ma&store=tyy%2F4io&srno=s_1_3&otracker=search&fm=organic&iid=f5769ec7-1e15-46bf-92ff-c27a30a63b37.MOBGTAGQ8DDHVKZM.SEARCH&ppt=None&ppn=None&ssid=pa1czu5y3k0000001702790164817&qH=ddf25561cfa33514\n",
      "https://www.flipkart.com/apple-iphone-15-pro-max-blue-titanium-256-gb/p/itm4a0093df4a3d7?pid=MOBGTAGP4SVJGGH6&lid=LSTMOBGTAGP4SVJGGH6BVMLK2&marketplace=FLIPKART&q=iphone+15+pro+ma&store=tyy%2F4io&srno=s_1_4&otracker=search&fm=organic&iid=f5769ec7-1e15-46bf-92ff-c27a30a63b37.MOBGTAGP4SVJGGH6.SEARCH&ppt=None&ppn=None&ssid=pa1czu5y3k0000001702790164817&qH=ddf25561cfa33514\n",
      "https://www.flipkart.com/apple-iphone-15-pro-max-black-titanium-1-tb/p/itm5eabe6c34067e?pid=MOBGTAGQZCR8Y6RH&lid=LSTMOBGTAGQZCR8Y6RHKTG41V&marketplace=FLIPKART&q=iphone+15+pro+ma&store=tyy%2F4io&srno=s_1_5&otracker=search&fm=organic&iid=f5769ec7-1e15-46bf-92ff-c27a30a63b37.MOBGTAGQZCR8Y6RH.SEARCH&ppt=None&ppn=None&ssid=pa1czu5y3k0000001702790164817&qH=ddf25561cfa33514\n",
      "https://www.flipkart.com/apple-iphone-15-pro-max-natural-titanium-512-gb/p/itmdff963c700866?pid=MOBGTAGQWHVD9V2K&lid=LSTMOBGTAGQWHVD9V2KYQWPMY&marketplace=FLIPKART&q=iphone+15+pro+ma&store=tyy%2F4io&srno=s_1_6&otracker=search&fm=organic&iid=f5769ec7-1e15-46bf-92ff-c27a30a63b37.MOBGTAGQWHVD9V2K.SEARCH&ppt=None&ppn=None&ssid=pa1czu5y3k0000001702790164817&qH=ddf25561cfa33514\n",
      "https://www.flipkart.com/apple-iphone-15-pro-max-white-titanium-512-gb/p/itmbc976875d6658?pid=MOBGTAGQWDVBNC5Y&lid=LSTMOBGTAGQWDVBNC5YYRG7S0&marketplace=FLIPKART&q=iphone+15+pro+ma&store=tyy%2F4io&srno=s_1_7&otracker=search&fm=organic&iid=f5769ec7-1e15-46bf-92ff-c27a30a63b37.MOBGTAGQWDVBNC5Y.SEARCH&ppt=None&ppn=None&ssid=pa1czu5y3k0000001702790164817&qH=ddf25561cfa33514\n",
      "https://www.flipkart.com/apple-iphone-15-pro-max-black-titanium-512-gb/p/itm26b131c3af6b6?pid=MOBGTAGQZ7DW89ZB&lid=LSTMOBGTAGQZ7DW89ZBXSJKEX&marketplace=FLIPKART&q=iphone+15+pro+ma&store=tyy%2F4io&srno=s_1_8&otracker=search&fm=organic&iid=f5769ec7-1e15-46bf-92ff-c27a30a63b37.MOBGTAGQZ7DW89ZB.SEARCH&ppt=None&ppn=None&ssid=pa1czu5y3k0000001702790164817&qH=ddf25561cfa33514\n",
      "https://www.flipkart.com/apple-iphone-15-pro-max-natural-titanium-1-tb/p/itm2bdab781feef6?pid=MOBGTAGQSUBTRCFS&lid=LSTMOBGTAGQSUBTRCFSFGWBH1&marketplace=FLIPKART&q=iphone+15+pro+ma&store=tyy%2F4io&srno=s_1_9&otracker=search&fm=organic&iid=f5769ec7-1e15-46bf-92ff-c27a30a63b37.MOBGTAGQSUBTRCFS.SEARCH&ppt=None&ppn=None&ssid=pa1czu5y3k0000001702790164817&qH=ddf25561cfa33514\n",
      "https://www.flipkart.com/apple-iphone-15-pro-max-blue-titanium-512-gb/p/itm6c09b030de0b1?pid=MOBGTAGQHTDXYSHG&lid=LSTMOBGTAGQHTDXYSHGCIJXQO&marketplace=FLIPKART&q=iphone+15+pro+ma&store=tyy%2F4io&srno=s_1_10&otracker=search&fm=organic&iid=f5769ec7-1e15-46bf-92ff-c27a30a63b37.MOBGTAGQHTDXYSHG.SEARCH&ppt=None&ppn=None&ssid=pa1czu5y3k0000001702790164817&qH=ddf25561cfa33514\n",
      "https://www.flipkart.com/apple-iphone-13-pro-max-graphite-512-gb/p/itmbe5170f10a29f?pid=MOBG6VF5MNKYGQMA&lid=LSTMOBG6VF5MNKYGQMA3Q2IN7&marketplace=FLIPKART&q=iphone+15+pro+ma&store=tyy%2F4io&srno=s_1_11&otracker=search&fm=organic&iid=f5769ec7-1e15-46bf-92ff-c27a30a63b37.MOBG6VF5MNKYGQMA.SEARCH&ppt=None&ppn=None&ssid=pa1czu5y3k0000001702790164817&qH=ddf25561cfa33514\n",
      "https://www.flipkart.com/apple-iphone-13-pro-max-alpine-green-1-tb/p/itm85829ae4949a7?pid=MOBGC9VGF6TPMQKZ&lid=LSTMOBGC9VGF6TPMQKZPDWLNQ&marketplace=FLIPKART&q=iphone+15+pro+ma&store=tyy%2F4io&srno=s_1_12&otracker=search&fm=organic&iid=f5769ec7-1e15-46bf-92ff-c27a30a63b37.MOBGC9VGF6TPMQKZ.SEARCH&ppt=None&ppn=None&ssid=pa1czu5y3k0000001702790164817&qH=ddf25561cfa33514\n",
      "https://www.flipkart.com/apple-iphone-11-pro-max-midnight-green-64-gb/p/itmab1763b5ca244?pid=MOBFKCTSRYPAQNYT&lid=LSTMOBFKCTSRYPAQNYTEQJHYJ&marketplace=FLIPKART&q=iphone+15+pro+ma&store=tyy%2F4io&srno=s_1_13&otracker=search&fm=organic&iid=f5769ec7-1e15-46bf-92ff-c27a30a63b37.MOBFKCTSRYPAQNYT.SEARCH&ppt=None&ppn=None&ssid=pa1czu5y3k0000001702790164817&qH=ddf25561cfa33514\n",
      "https://www.flipkart.com/apple-iphone-13-pro-max-graphite-1-tb/p/itmdbb23fa63b708?pid=MOBG6VF56FGKA8SG&lid=LSTMOBG6VF56FGKA8SGGXC16M&marketplace=FLIPKART&q=iphone+15+pro+ma&store=tyy%2F4io&srno=s_1_14&otracker=search&fm=organic&iid=f5769ec7-1e15-46bf-92ff-c27a30a63b37.MOBG6VF56FGKA8SG.SEARCH&ppt=None&ppn=None&ssid=pa1czu5y3k0000001702790164817&qH=ddf25561cfa33514\n",
      "https://www.flipkart.com/apple-iphone-13-pro-max-silver-1-tb/p/itm5e2d156bf43d9?pid=MOBG6VF5H3YC3GNC&lid=LSTMOBG6VF5H3YC3GNCBSET86&marketplace=FLIPKART&q=iphone+15+pro+ma&store=tyy%2F4io&srno=s_1_15&otracker=search&fm=organic&iid=f5769ec7-1e15-46bf-92ff-c27a30a63b37.MOBG6VF5H3YC3GNC.SEARCH&ppt=None&ppn=None&ssid=pa1czu5y3k0000001702790164817&qH=ddf25561cfa33514\n",
      "https://www.flipkart.com/apple-iphone-13-pro-max-sierra-blue-1-tb/p/itm9b0652604b403?pid=MOBG6VF5YHYZNNMM&lid=LSTMOBG6VF5YHYZNNMMHQNNNN&marketplace=FLIPKART&q=iphone+15+pro+ma&store=tyy%2F4io&srno=s_1_16&otracker=search&fm=organic&iid=f5769ec7-1e15-46bf-92ff-c27a30a63b37.MOBG6VF5YHYZNNMM.SEARCH&ppt=None&ppn=None&ssid=pa1czu5y3k0000001702790164817&qH=ddf25561cfa33514\n",
      "https://www.flipkart.com/apple-iphone-11-pro-max-space-grey-64-gb/p/itme0101031155f8?pid=MOBFKCTSKDMKCGQS&lid=LSTMOBFKCTSKDMKCGQSOYFAJN&marketplace=FLIPKART&q=iphone+15+pro+ma&store=tyy%2F4io&srno=s_1_17&otracker=search&fm=organic&iid=f5769ec7-1e15-46bf-92ff-c27a30a63b37.MOBFKCTSKDMKCGQS.SEARCH&ppt=None&ppn=None&ssid=pa1czu5y3k0000001702790164817&qH=ddf25561cfa33514\n",
      "https://www.flipkart.com/apple-iphone-15-pro-max-blue-titanium-1-tb/p/itmc556a7f74123f?pid=MOBGTAGQRFZHFGXC&lid=LSTMOBGTAGQRFZHFGXCOAO2IL&marketplace=FLIPKART&q=iphone+15+pro+ma&store=tyy%2F4io&srno=s_1_18&otracker=search&fm=organic&iid=f5769ec7-1e15-46bf-92ff-c27a30a63b37.MOBGTAGQRFZHFGXC.SEARCH&ppt=None&ppn=None&ssid=pa1czu5y3k0000001702790164817&qH=ddf25561cfa33514\n",
      "https://www.flipkart.com/apple-iphone-15-pro-max-white-titanium-1-tb/p/itmb8fb401cba153?pid=MOBGTAGQPTREATAR&lid=LSTMOBGTAGQPTREATARJMY09V&marketplace=FLIPKART&q=iphone+15+pro+ma&store=tyy%2F4io&srno=s_1_19&otracker=search&fm=organic&iid=f5769ec7-1e15-46bf-92ff-c27a30a63b37.MOBGTAGQPTREATAR.SEARCH&ppt=None&ppn=None&ssid=pa1czu5y3k0000001702790164817&qH=ddf25561cfa33514\n",
      "https://www.flipkart.com/apple-iphone-13-pro-max-sierra-blue-256-gb/p/itmcb824a3301158?pid=MOBG6VF5Y3PWSVWG&lid=LSTMOBG6VF5Y3PWSVWGX8XHG1&marketplace=FLIPKART&q=iphone+15+pro+ma&store=tyy%2F4io&srno=s_1_20&otracker=search&fm=organic&iid=f5769ec7-1e15-46bf-92ff-c27a30a63b37.MOBG6VF5Y3PWSVWG.SEARCH&ppt=None&ppn=None&ssid=pa1czu5y3k0000001702790164817&qH=ddf25561cfa33514\n",
      "https://www.flipkart.com/apple-iphone-14-pro-max-deep-purple-128-gb/p/itm5256789ae40c7?pid=MOBGHWFHCWHXRZZJ&lid=LSTMOBGHWFHCWHXRZZJQWSX4D&marketplace=FLIPKART&q=iphone+15+pro+ma&store=tyy%2F4io&srno=s_1_21&otracker=search&fm=organic&iid=f5769ec7-1e15-46bf-92ff-c27a30a63b37.MOBGHWFHCWHXRZZJ.SEARCH&ppt=None&ppn=None&ssid=pa1czu5y3k0000001702790164817&qH=ddf25561cfa33514\n",
      "https://www.flipkart.com/apple-iphone-13-pro-max-sierra-blue-512-gb/p/itm26f0b22cf2288?pid=MOBG6VF5ERKYQRP8&lid=LSTMOBG6VF5ERKYQRP8I9WIFA&marketplace=FLIPKART&q=iphone+15+pro+ma&store=tyy%2F4io&srno=s_1_22&otracker=search&fm=organic&iid=f5769ec7-1e15-46bf-92ff-c27a30a63b37.MOBG6VF5ERKYQRP8.SEARCH&ppt=None&ppn=None&ssid=pa1czu5y3k0000001702790164817&qH=ddf25561cfa33514\n",
      "https://www.flipkart.com/apple-iphone-13-pro-max-alpine-green-512-gb/p/itme5529c8267abe?pid=MOBGC9VGHZAHZH6H&lid=LSTMOBGC9VGHZAHZH6HZUM8NB&marketplace=FLIPKART&q=iphone+15+pro+ma&store=tyy%2F4io&srno=s_1_23&otracker=search&fm=organic&iid=f5769ec7-1e15-46bf-92ff-c27a30a63b37.MOBGC9VGHZAHZH6H.SEARCH&ppt=None&ppn=None&ssid=pa1czu5y3k0000001702790164817&qH=ddf25561cfa33514\n",
      "https://www.flipkart.com/apple-iphone-13-pro-max-silver-256-gb/p/itmff24c14e68d14?pid=MOBG6VF5WA2CZWF2&lid=LSTMOBG6VF5WA2CZWF2UXIPYY&marketplace=FLIPKART&q=iphone+15+pro+ma&store=tyy%2F4io&srno=s_1_24&otracker=search&fm=organic&iid=f5769ec7-1e15-46bf-92ff-c27a30a63b37.MOBG6VF5WA2CZWF2.SEARCH&ppt=None&ppn=None&ssid=pa1czu5y3k0000001702790164817&qH=ddf25561cfa33514\n"
     ]
    },
    {
     "ename": "AttributeError",
     "evalue": "'NoneType' object has no attribute 'a'",
     "output_type": "error",
     "traceback": [
      "\u001b[1;31m---------------------------------------------------------------------------\u001b[0m",
      "\u001b[1;31mAttributeError\u001b[0m                            Traceback (most recent call last)",
      "Cell \u001b[1;32mIn[11], line 2\u001b[0m\n\u001b[0;32m      1\u001b[0m \u001b[38;5;28;01mfor\u001b[39;00m i \u001b[38;5;129;01min\u001b[39;00m container:\n\u001b[1;32m----> 2\u001b[0m     \u001b[38;5;28mprint\u001b[39m(\u001b[38;5;124m\"\u001b[39m\u001b[38;5;124mhttps://www.flipkart.com\u001b[39m\u001b[38;5;124m\"\u001b[39m\u001b[38;5;241m+\u001b[39m i\u001b[38;5;241m.\u001b[39mdiv\u001b[38;5;241m.\u001b[39mdiv\u001b[38;5;241m.\u001b[39mdiv\u001b[38;5;241m.\u001b[39ma[\u001b[38;5;124m\"\u001b[39m\u001b[38;5;124mhref\u001b[39m\u001b[38;5;124m\"\u001b[39m])\n",
      "\u001b[1;31mAttributeError\u001b[0m: 'NoneType' object has no attribute 'a'"
     ]
    }
   ],
   "source": [
    "for i in container:\n",
    "    print(\"https://www.flipkart.com\"+ i.div.div.div.a[\"href\"])"
   ]
  },
  {
   "cell_type": "code",
   "execution_count": 12,
   "id": "3f67b623",
   "metadata": {},
   "outputs": [],
   "source": [
    "single_link = \"https://www.flipkart.com\" + container[3].div.div.div.a[\"href\"]"
   ]
  },
  {
   "cell_type": "code",
   "execution_count": 13,
   "id": "93f54e1d",
   "metadata": {},
   "outputs": [
    {
     "data": {
      "text/plain": [
       "'https://www.flipkart.com/apple-iphone-15-pro-max-blue-titanium-256-gb/p/itm4a0093df4a3d7?pid=MOBGTAGP4SVJGGH6&lid=LSTMOBGTAGP4SVJGGH6BVMLK2&marketplace=FLIPKART&q=iphone+15+pro+ma&store=tyy%2F4io&srno=s_1_4&otracker=search&fm=organic&iid=f5769ec7-1e15-46bf-92ff-c27a30a63b37.MOBGTAGP4SVJGGH6.SEARCH&ppt=None&ppn=None&ssid=pa1czu5y3k0000001702790164817&qH=ddf25561cfa33514'"
      ]
     },
     "execution_count": 13,
     "metadata": {},
     "output_type": "execute_result"
    }
   ],
   "source": [
    "single_link"
   ]
  },
  {
   "cell_type": "code",
   "execution_count": 20,
   "id": "8648f526",
   "metadata": {},
   "outputs": [],
   "source": [
    "prod_req = requests.get(single_link)"
   ]
  },
  {
   "cell_type": "code",
   "execution_count": 21,
   "id": "5c0dd84d",
   "metadata": {},
   "outputs": [],
   "source": [
    "prof_bs = bs(prod_req.text , \"html.parser\")"
   ]
  },
  {
   "cell_type": "code",
   "execution_count": null,
   "id": "462c0c62",
   "metadata": {},
   "outputs": [],
   "source": [
    "#trying to get the rating, will get one rating first and then will try to get all the ratings"
   ]
  },
  {
   "cell_type": "code",
   "execution_count": 64,
   "id": "86db3e9b",
   "metadata": {},
   "outputs": [
    {
     "data": {
      "text/plain": [
       "'5'"
      ]
     },
     "execution_count": 64,
     "metadata": {},
     "output_type": "execute_result"
    }
   ],
   "source": [
    "commant_box[0].div.div.div.div.text"
   ]
  },
  {
   "cell_type": "code",
   "execution_count": null,
   "id": "110320de",
   "metadata": {},
   "outputs": [],
   "source": [
    "#1) to get all the ratings will use for loop"
   ]
  },
  {
   "cell_type": "code",
   "execution_count": 65,
   "id": "8ebbbad8",
   "metadata": {},
   "outputs": [
    {
     "name": "stdout",
     "output_type": "stream",
     "text": [
      "5\n",
      "5\n",
      "5\n",
      "5\n",
      "5\n",
      "5\n",
      "5\n",
      "1\n",
      "5\n",
      "5\n"
     ]
    },
    {
     "ename": "AttributeError",
     "evalue": "'NoneType' object has no attribute 'div'",
     "output_type": "error",
     "traceback": [
      "\u001b[1;31m---------------------------------------------------------------------------\u001b[0m",
      "\u001b[1;31mAttributeError\u001b[0m                            Traceback (most recent call last)",
      "Cell \u001b[1;32mIn[65], line 2\u001b[0m\n\u001b[0;32m      1\u001b[0m \u001b[38;5;28;01mfor\u001b[39;00m i \u001b[38;5;129;01min\u001b[39;00m commant_box:\n\u001b[1;32m----> 2\u001b[0m     \u001b[38;5;28mprint\u001b[39m(i\u001b[38;5;241m.\u001b[39mdiv\u001b[38;5;241m.\u001b[39mdiv\u001b[38;5;241m.\u001b[39mdiv\u001b[38;5;241m.\u001b[39mdiv\u001b[38;5;241m.\u001b[39mtext)\n",
      "\u001b[1;31mAttributeError\u001b[0m: 'NoneType' object has no attribute 'div'"
     ]
    }
   ],
   "source": [
    "for i in commant_box:\n",
    "    print(i.div.div.div.div.text)"
   ]
  },
  {
   "cell_type": "code",
   "execution_count": null,
   "id": "53b83f7f",
   "metadata": {},
   "outputs": [],
   "source": [
    "#2) will try to get the comment header"
   ]
  },
  {
   "cell_type": "code",
   "execution_count": 70,
   "id": "01b7941a",
   "metadata": {},
   "outputs": [
    {
     "data": {
      "text/plain": [
       "'Perfect product!'"
      ]
     },
     "execution_count": 70,
     "metadata": {},
     "output_type": "execute_result"
    }
   ],
   "source": [
    "commant_box[0].div.div.div.p.text"
   ]
  },
  {
   "cell_type": "code",
   "execution_count": 71,
   "id": "5702522e",
   "metadata": {},
   "outputs": [
    {
     "name": "stdout",
     "output_type": "stream",
     "text": [
      "Perfect product!\n",
      "Terrific\n",
      "Perfect product!\n",
      "Super!\n",
      "Worth every penny\n",
      "Terrific\n",
      "Simply awesome\n",
      "Horrible\n",
      "Worth every penny\n",
      "Mind-blowing purchase\n"
     ]
    },
    {
     "ename": "AttributeError",
     "evalue": "'NoneType' object has no attribute 'div'",
     "output_type": "error",
     "traceback": [
      "\u001b[1;31m---------------------------------------------------------------------------\u001b[0m",
      "\u001b[1;31mAttributeError\u001b[0m                            Traceback (most recent call last)",
      "Cell \u001b[1;32mIn[71], line 2\u001b[0m\n\u001b[0;32m      1\u001b[0m \u001b[38;5;28;01mfor\u001b[39;00m i \u001b[38;5;129;01min\u001b[39;00m commant_box:\n\u001b[1;32m----> 2\u001b[0m     \u001b[38;5;28mprint\u001b[39m(i\u001b[38;5;241m.\u001b[39mdiv\u001b[38;5;241m.\u001b[39mdiv\u001b[38;5;241m.\u001b[39mdiv\u001b[38;5;241m.\u001b[39mp\u001b[38;5;241m.\u001b[39mtext)\n",
      "\u001b[1;31mAttributeError\u001b[0m: 'NoneType' object has no attribute 'div'"
     ]
    }
   ],
   "source": [
    "for i in commant_box:\n",
    "    print(i.div.div.div.p.text)"
   ]
  },
  {
   "cell_type": "code",
   "execution_count": null,
   "id": "74963d7b",
   "metadata": {},
   "outputs": [],
   "source": [
    "#3)trying to get the comments"
   ]
  },
  {
   "cell_type": "code",
   "execution_count": 84,
   "id": "317c23e0",
   "metadata": {},
   "outputs": [
    {
     "data": {
      "text/plain": [
       "'Very Good SmartphoneGood performance Good battery backup And camera performance superBut only negative point-  smartphone design same to same iphone 14 pro maxREAD MORE'"
      ]
     },
     "execution_count": 84,
     "metadata": {},
     "output_type": "execute_result"
    }
   ],
   "source": [
    "commant_box[0].div.div.findAll(\"div\" , {\"class\" : \"\"})[0].text"
   ]
  },
  {
   "cell_type": "code",
   "execution_count": 86,
   "id": "7b82e235",
   "metadata": {},
   "outputs": [
    {
     "name": "stdout",
     "output_type": "stream",
     "text": [
      "Very Good SmartphoneGood performance Good battery backup And camera performance superBut only negative point-  smartphone design same to same iphone 14 pro maxREAD MORE\n",
      "I've reviewed and tested iPhones for years, but Apple's new iPhone 15 Pro Max is the first time I've ever been this enamored.READ MORE\n",
      "Upgraded from 11 to 15 pro max after 2 year The display is awosome the bezzel are the thinnest And the A17 pro chip is blazing fast u can play bgmi at hdr in extreme seeting with no lag. The camera is mind blowing in lighting condition all like the dslr the quality is awesome u will not get this type of camera quality in any smartphone 🤩❤️READ MORE\n",
      "Excellent . Just loved it .😍READ MORE\n",
      "This one is love .. no words to explain ..READ MORE\n",
      "The phone is just 10/10. Amazing cameras, especially the 5x telephoto. Battery life goes over a day. The bezels look thin as well. Better to use with a case to prevent discolouration of the titanium body.READ MORE\n",
      "Great PhoneREAD MORE\n",
      "Facing heating issues even after ios 17 updateEven for simple tasks fone is heating like below 10k budget foneREAD MORE\n",
      "I ordered my iPhone on 11th Oct and I received it before the given time, which was an absolutely remarkable job by Flipkart.Firstly I wanna address some rumors around this particular device 1) Heating issues NO2) Charging related issues - NO3) Any issues I encountered - NO4) Rumors were just exaggerated by people - DEFINITELY YESLastly I wanna say that it is A BEAST in performance, camera is also superb, believe me go with this product and you wont regret. Dont listen to the rumors sp...READ MORE\n",
      "Good design, thinner bezzel, good performance, good battery lifeREAD MORE\n"
     ]
    },
    {
     "ename": "AttributeError",
     "evalue": "'NoneType' object has no attribute 'div'",
     "output_type": "error",
     "traceback": [
      "\u001b[1;31m---------------------------------------------------------------------------\u001b[0m",
      "\u001b[1;31mAttributeError\u001b[0m                            Traceback (most recent call last)",
      "Cell \u001b[1;32mIn[86], line 2\u001b[0m\n\u001b[0;32m      1\u001b[0m \u001b[38;5;28;01mfor\u001b[39;00m i \u001b[38;5;129;01min\u001b[39;00m commant_box:\n\u001b[1;32m----> 2\u001b[0m     \u001b[38;5;28mprint\u001b[39m(i\u001b[38;5;241m.\u001b[39mdiv\u001b[38;5;241m.\u001b[39mdiv\u001b[38;5;241m.\u001b[39mfindAll(\u001b[38;5;124m\"\u001b[39m\u001b[38;5;124mdiv\u001b[39m\u001b[38;5;124m\"\u001b[39m , {\u001b[38;5;124m\"\u001b[39m\u001b[38;5;124mclass\u001b[39m\u001b[38;5;124m\"\u001b[39m : \u001b[38;5;124m\"\u001b[39m\u001b[38;5;124m\"\u001b[39m})[\u001b[38;5;241m0\u001b[39m]\u001b[38;5;241m.\u001b[39mtext)\n",
      "\u001b[1;31mAttributeError\u001b[0m: 'NoneType' object has no attribute 'div'"
     ]
    }
   ],
   "source": [
    "for i in commant_box:\n",
    "    print(i.div.div.findAll(\"div\" , {\"class\" : \"\"})[0].text)"
   ]
  },
  {
   "cell_type": "code",
   "execution_count": null,
   "id": "9bc41d56",
   "metadata": {},
   "outputs": [],
   "source": [
    "#4)trying to get the customer names"
   ]
  },
  {
   "cell_type": "code",
   "execution_count": 94,
   "id": "fc8b41ba",
   "metadata": {},
   "outputs": [
    {
     "data": {
      "text/plain": [
       "'Mahendra Saurabh'"
      ]
     },
     "execution_count": 94,
     "metadata": {},
     "output_type": "execute_result"
    }
   ],
   "source": [
    "commant_box[0].div.div.find_all(\"p\" , {\"class\" : \"_2sc7ZR _2V5EHH\"})[0].text"
   ]
  },
  {
   "cell_type": "code",
   "execution_count": 95,
   "id": "6bdf7b66",
   "metadata": {},
   "outputs": [
    {
     "name": "stdout",
     "output_type": "stream",
     "text": [
      "Mahendra Saurabh\n",
      "Ravideep Yadav\n",
      "Mamta  Kumari\n",
      "Rahul ghosh\n",
      "Yashmeet Kashyap \n",
      "Titas Kumar Koley\n",
      "Sami Khatri\n",
      "Srihari reddy Vanipenta\n",
      "Vishal Jain\n",
      "Jaspreet Virdi\n"
     ]
    },
    {
     "ename": "AttributeError",
     "evalue": "'NoneType' object has no attribute 'div'",
     "output_type": "error",
     "traceback": [
      "\u001b[1;31m---------------------------------------------------------------------------\u001b[0m",
      "\u001b[1;31mAttributeError\u001b[0m                            Traceback (most recent call last)",
      "Cell \u001b[1;32mIn[95], line 2\u001b[0m\n\u001b[0;32m      1\u001b[0m \u001b[38;5;28;01mfor\u001b[39;00m i \u001b[38;5;129;01min\u001b[39;00m commant_box:\n\u001b[1;32m----> 2\u001b[0m     \u001b[38;5;28mprint\u001b[39m(i\u001b[38;5;241m.\u001b[39mdiv\u001b[38;5;241m.\u001b[39mdiv\u001b[38;5;241m.\u001b[39mfind_all(\u001b[38;5;124m\"\u001b[39m\u001b[38;5;124mp\u001b[39m\u001b[38;5;124m\"\u001b[39m , {\u001b[38;5;124m\"\u001b[39m\u001b[38;5;124mclass\u001b[39m\u001b[38;5;124m\"\u001b[39m : \u001b[38;5;124m\"\u001b[39m\u001b[38;5;124m_2sc7ZR _2V5EHH\u001b[39m\u001b[38;5;124m\"\u001b[39m})[\u001b[38;5;241m0\u001b[39m]\u001b[38;5;241m.\u001b[39mtext)\n",
      "\u001b[1;31mAttributeError\u001b[0m: 'NoneType' object has no attribute 'div'"
     ]
    }
   ],
   "source": [
    "for i in commant_box:\n",
    "    print(i.div.div.find_all(\"p\" , {\"class\" : \"_2sc7ZR _2V5EHH\"})[0].text)"
   ]
  }
 ],
 "metadata": {
  "kernelspec": {
   "display_name": "Python 3 (ipykernel)",
   "language": "python",
   "name": "python3"
  },
  "language_info": {
   "codemirror_mode": {
    "name": "ipython",
    "version": 3
   },
   "file_extension": ".py",
   "mimetype": "text/x-python",
   "name": "python",
   "nbconvert_exporter": "python",
   "pygments_lexer": "ipython3",
   "version": "3.11.5"
  }
 },
 "nbformat": 4,
 "nbformat_minor": 5
}
